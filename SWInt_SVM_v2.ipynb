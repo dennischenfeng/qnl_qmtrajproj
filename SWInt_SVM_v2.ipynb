{
 "cells": [
  {
   "cell_type": "code",
   "execution_count": 13,
   "metadata": {
    "collapsed": true
   },
   "outputs": [],
   "source": [
    "%matplotlib inline\n",
    "\n",
    "import numpy as np\n",
    "import matplotlib.pyplot as plt\n",
    "from sklearn.utils import shuffle\n",
    "from sklearn import svm\n",
    "import time"
   ]
  },
  {
   "cell_type": "markdown",
   "metadata": {},
   "source": [
    "### Load data"
   ]
  },
  {
   "cell_type": "code",
   "execution_count": 6,
   "metadata": {
    "collapsed": false
   },
   "outputs": [
    {
     "name": "stdout",
     "output_type": "stream",
     "text": [
      "train traj and labels loaded\n",
      "test traj and labels loaded\n"
     ]
    }
   ],
   "source": [
    "traj_train = np.load('traj_train.npy')\n",
    "labels_train = np.load('labels_train.npy')\n",
    "print 'train traj and labels loaded'\n",
    "\n",
    "traj_test = np.load('traj_test.npy')\n",
    "labels_test = np.load('labels_test.npy')\n",
    "print 'test traj and labels loaded'"
   ]
  },
  {
   "cell_type": "markdown",
   "metadata": {},
   "source": [
    "### Params"
   ]
  },
  {
   "cell_type": "code",
   "execution_count": 7,
   "metadata": {
    "collapsed": true
   },
   "outputs": [],
   "source": [
    "slotSize = 0\n",
    "clf_SVM = None"
   ]
  },
  {
   "cell_type": "markdown",
   "metadata": {},
   "source": [
    "### Helper functions"
   ]
  },
  {
   "cell_type": "code",
   "execution_count": 66,
   "metadata": {
    "collapsed": true
   },
   "outputs": [],
   "source": [
    "def __formatIntoFeatureVectorsAndLabels(traj, labels):\n",
    "    \"\"\"\n",
    "    Helper function. Converts the traj and labels into a feature vector matrix (design matrix) and a labels array, which is the proper format to input into the SVM.\n",
    "    :param traj: the demodded trajectories in an np array, with 3 indices: iqIndex, trajIndex, timeIndex\n",
    "    :param labels: the labels corresponding to the trajectories, 1d np array\n",
    "    :return: inputVectors (each feature vector is the I vector concatted with the Q vector) and labels_ggexc (labels for each trajectory, 0 for gg, 1 for exc)\n",
    "    \"\"\"\n",
    "    numTotalTraj = traj.shape[1]\n",
    "    numTimeBins = traj.shape[2]  # 5000 #num time bins per traj\n",
    "    \n",
    "    print '@@@ Start slotting; time: ', time.time() - timeStart\n",
    "    #: get inputVectors and labels_ggexc\n",
    "    ###\n",
    "    numSlots = numTimeBins / slotSize  # num slots per traj\n",
    "    \n",
    "#     #: obsolete code bcause it's too slow\n",
    "#     traj_slotted = np.zeros((2, numTotalTraj, numSlots))  # indices: iqIndex, labelIndex, trajIndex, slotIndex\n",
    "#     for trajIndex in np.arange(numTotalTraj):\n",
    "#         for j in np.arange(numSlots): #j is slotIndex\n",
    "#             traj_slotted[:, trajIndex, j] = traj[:, trajIndex, j*slotSize:j*slotSize+slotSize].mean(1)\n",
    "#             traj_slotted[1, trajIndex, j] = traj[1, trajIndex, j*slotSize:j*slotSize+slotSize].mean()\n",
    "    \n",
    "    traj_slotted = np.reshape(traj, (2, numTotalTraj, numSlots, slotSize)).mean(3)\n",
    "    \n",
    "    print '@@@ Finished slotting; time: ', time.time() - timeStart\n",
    "    \n",
    "#     print '@@@ Start concatting; time: ', time.time() - timeStart\n",
    "    inputVectors = np.concatenate((traj_slotted[0, :, :], traj_slotted[1, :, :]), axis=1) #sample vectors to input into the SVM;\n",
    "    labels_ggexc = np.array([0 if labels[i]==0 else 1 for i in np.arange(numTotalTraj) ]) # this groups gg as label 0, and exc as label 1\n",
    "#     print '@@@ Finished concatting; time: ', time.time() - timeStart\n",
    "    \n",
    "    return inputVectors, labels_ggexc"
   ]
  },
  {
   "cell_type": "code",
   "execution_count": 9,
   "metadata": {
    "collapsed": true
   },
   "outputs": [],
   "source": [
    "def __findFidelity(inputVectors, labels_ggexc):\n",
    "    \"\"\"\n",
    "    Helper function. Calculates the fidelity\n",
    "    :param inputVectors:\n",
    "    :param labels_ggexc:\n",
    "    :return: fidelity\n",
    "    \"\"\"\n",
    "    numTraj = inputVectors.shape[0]\n",
    "\n",
    "    #: find train fidelity\n",
    "    ###\n",
    "    labels_ggexc_predicted = clf_SVM.predict(inputVectors)\n",
    "\n",
    "    num_gg_exc = 0  # num of samples that are predicted 'gg' but are actually exc\n",
    "    num_exc_gg = 0  # num of samples that are predicted 'exc' but are actually gg\n",
    "    num_exc = 0  # total num of true exc sample\n",
    "    num_gg = 0  # total num of true exc sample\n",
    "\n",
    "    for i in np.arange(numTraj):\n",
    "        if labels_ggexc[i] == 1:\n",
    "            num_exc = num_exc + 1\n",
    "            if labels_ggexc_predicted[i] == 0:\n",
    "                num_gg_exc = num_gg_exc + 1\n",
    "        else:\n",
    "            num_gg = num_gg + 1\n",
    "            if labels_ggexc_predicted[i] == 1:\n",
    "                num_exc_gg = num_exc_gg + 1\n",
    "\n",
    "    prob_gg_exc = 1.0 * num_gg_exc / num_exc\n",
    "    prob_exc_gg = 1.0 * num_exc_gg / num_gg\n",
    "\n",
    "    fid_ggexc = 1 - (prob_gg_exc + prob_exc_gg) / 2\n",
    "\n",
    "    return fid_ggexc"
   ]
  },
  {
   "cell_type": "markdown",
   "metadata": {},
   "source": [
    "### Fit the SVM"
   ]
  },
  {
   "cell_type": "code",
   "execution_count": 25,
   "metadata": {
    "collapsed": false
   },
   "outputs": [
    {
     "name": "stdout",
     "output_type": "stream",
     "text": [
      "<type 'int'>\n",
      "100\n"
     ]
    }
   ],
   "source": [
    "print type(traj.shape[2] / slotSize)\n",
    "print traj.shape[2] / slotSize\n",
    "\n"
   ]
  },
  {
   "cell_type": "code",
   "execution_count": 67,
   "metadata": {
    "collapsed": false
   },
   "outputs": [
    {
     "name": "stdout",
     "output_type": "stream",
     "text": [
      "@@@ Start timing\n",
      "@@@ Start formatIntoFeatureVectorsAndLabels; time:  0.000982999801636\n",
      "@@@ Start slotting; time:  0.00145316123962\n",
      "@@@ Finished slotting; time:  1.67877006531\n",
      "@@@ Finished formatIntoFeatureVectorsAndLabels; time:  1.71913719177\n"
     ]
    }
   ],
   "source": [
    "### Testing _formatInto..\n",
    "\n",
    "\n",
    "timeStart = time.time()\n",
    "print '@@@ Start timing'\n",
    "\"\"\"\n",
    "Fits the SVM.\n",
    "\n",
    ":param traj:\n",
    ":param labels:\n",
    ":param slotSize: size (number of time units) of each slot, for performing slot weights integration\n",
    ":param tuneC: True if you want the method to tune C\n",
    ":param lstC: None if you want to use the default list of C's to sweep through for finding the optimal C; should be an np array or a list.\n",
    ":param validationFraction: fraction of the traj's to use as the validation set (tuning C happens on the validation set)\n",
    ":return: self\n",
    "\"\"\"\n",
    "traj = traj_train\n",
    "labels = labels_train\n",
    "slotSize=50 \n",
    "tuneC=False\n",
    "lstC=None\n",
    "validationFraction=0.25\n",
    "\n",
    "\n",
    "\n",
    "\n",
    "numTotalTraj = traj.shape[1]\n",
    "\n",
    "print '@@@ Start formatIntoFeatureVectorsAndLabels; time: ', time.time() - timeStart\n",
    "inputVectors, labels_ggexc = __formatIntoFeatureVectorsAndLabels(traj, labels)\n",
    "print '@@@ Finished formatIntoFeatureVectorsAndLabels; time: ', time.time() - timeStart"
   ]
  },
  {
   "cell_type": "code",
   "execution_count": 48,
   "metadata": {
    "collapsed": false
   },
   "outputs": [
    {
     "name": "stdout",
     "output_type": "stream",
     "text": [
      "100 loops, best of 3: 19.7 ms per loop\n"
     ]
    }
   ],
   "source": [
    "### testing\n",
    "\n",
    "test = np.random.rand(2,1000,10000)\n",
    "\n",
    "%timeit test.reshape(2, 100, 50, -1).mean(2)\n"
   ]
  },
  {
   "cell_type": "code",
   "execution_count": 62,
   "metadata": {
    "collapsed": false
   },
   "outputs": [
    {
     "name": "stdout",
     "output_type": "stream",
     "text": [
      "(2, 5, 6)\n",
      "(2, 5, 2, 3)\n",
      "[[[ 6  0]\n",
      "  [ 7  8]\n",
      "  [ 8  6]\n",
      "  [ 9  6]\n",
      "  [10  6]]\n",
      "\n",
      " [[ 7  0]\n",
      "  [ 9  6]\n",
      "  [10  6]\n",
      "  [11  6]\n",
      "  [12  6]]]\n"
     ]
    }
   ],
   "source": [
    "### testing\n",
    "\n",
    "A = np.array([[[1,2,3,0,0,0],[1,2,4,1,4,3],[1,2,5,1,2,3],[1,2,6,1,2,3],[1,2,7,1,2,3]], \\\n",
    "              [[1,3,3,0,0,0],[2,3,4,1,2,3],[2,3,5,1,2,3],[2,3,6,1,2,3],[2,3,7,1,2,3]]])\n",
    "print A.shape\n",
    "A_reshaped = A.reshape((2,5,2,3))\n",
    "print A_reshaped.shape\n",
    "print A_reshaped.sum(3)\n",
    "\n",
    "# want: A_reshape = A.reshape((2, numTotalTraj, numTimeBins/slotSize, slotSize))"
   ]
  },
  {
   "cell_type": "code",
   "execution_count": 68,
   "metadata": {
    "collapsed": false
   },
   "outputs": [
    {
     "name": "stdout",
     "output_type": "stream",
     "text": [
      "@@@ Start timing\n",
      "@@@ Start formatIntoFeatureVectorsAndLabels; time:  0.00180101394653\n",
      "@@@ Start slotting; time:  0.00328087806702\n",
      "@@@ Finished slotting; time:  0.263383865356\n",
      "@@@ Finished formatIntoFeatureVectorsAndLabels; time:  0.313799858093\n",
      "Tuning C...\n",
      "On C = 1e-15 ; fid = 0.5\n",
      "On C = 1.88739182214e-15 ; fid = 0.5\n",
      "On C = 3.56224789026e-15 ; fid = 0.5\n",
      "On C = 6.7233575365e-15 ; fid = 0.5\n",
      "On C = 1.26896100317e-14 ; fid = 0.5\n",
      "On C = 2.39502661999e-14 ; fid = 0.5\n",
      "On C = 4.52035365636e-14 ; fid = 0.5\n",
      "On C = 8.53167852417e-14 ; fid = 0.5\n",
      "On C = 1.61026202756e-13 ; fid = 0.5\n",
      "On C = 3.03919538231e-13 ; fid = 0.5\n",
      "On C = 5.73615251045e-13 ; fid = 0.5\n",
      "On C = 1.08263673387e-12 ; fid = 0.502063584973\n",
      "On C = 2.04335971786e-12 ; fid = 0.520066428185\n",
      "On C = 3.85662042116e-12 ; fid = 0.589471415136\n",
      "On C = 7.27895384398e-12 ; fid = 0.721450603006\n",
      "On C = 1.37382379588e-11 ; fid = 0.827172607772\n",
      "On C = 2.5929437974e-11 ; fid = 0.87787222687\n",
      "On C = 4.89390091848e-11 ; fid = 0.897342612892\n",
      "On C = 9.23670857187e-11 ; fid = 0.906157122038\n",
      "On C = 1.7433288222e-10 ; fid = 0.909038966419\n",
      "On C = 3.29034456231e-10 ; fid = 0.909234563044\n",
      "On C = 6.21016941892e-10 ; fid = 0.906379339283\n",
      "On C = 1.17210229753e-09 ; fid = 0.904938417093\n",
      "On C = 2.21221629107e-09 ; fid = 0.902536880109\n",
      "On C = 4.17531893656e-09 ; fid = 0.902536880109\n",
      "On C = 7.88046281567e-09 ; fid = 0.902056572712\n",
      "On C = 1.48735210729e-08 ; fid = 0.901095957919\n",
      "On C = 2.80721620394e-08 ; fid = 0.901095957919\n",
      "On C = 5.29831690628e-08 ; fid = 0.900615650522\n",
      "On C = 1e-07 ; fid = 0.900615650522\n",
      "Chose optimal C =  3.29034456231e-10\n",
      "@@@ Start fitting the SVM; time:  10.6732478142\n",
      "@@@ Finished fitting the SVM; time:  10.9351189137\n"
     ]
    },
    {
     "data": {
      "image/png": "[encoded data removed]",
      "text/plain": [
       "<matplotlib.figure.Figure at 0x126e5fd10>"
      ]
     },
     "metadata": {},
     "output_type": "display_data"
    }
   ],
   "source": [
    "### \n",
    "\n",
    "timeStart = time.time()\n",
    "print '@@@ Start timing'\n",
    "\"\"\"\n",
    "Fits the SVM.\n",
    "\n",
    ":param traj:\n",
    ":param labels:\n",
    ":param slotSize: size (number of time units) of each slot, for performing slot weights integration\n",
    ":param tuneC: True if you want the method to tune C\n",
    ":param lstC: None if you want to use the default list of C's to sweep through for finding the optimal C; should be an np array or a list.\n",
    ":param validationFraction: fraction of the traj's to use as the validation set (tuning C happens on the validation set)\n",
    ":return: self\n",
    "\"\"\"\n",
    "traj = traj_train\n",
    "labels = labels_train\n",
    "slotSize=50 \n",
    "tuneC=True\n",
    "lstC=None\n",
    "validationFraction=0.25\n",
    "\n",
    "\n",
    "\n",
    "\n",
    "numTotalTraj = traj.shape[1]\n",
    "\n",
    "print '@@@ Start formatIntoFeatureVectorsAndLabels; time: ', time.time() - timeStart\n",
    "inputVectors, labels_ggexc = __formatIntoFeatureVectorsAndLabels(traj, labels)\n",
    "print '@@@ Finished formatIntoFeatureVectorsAndLabels; time: ', time.time() - timeStart\n",
    "\n",
    "#: fit the clf_SVM, tune C if chosen to\n",
    "###\n",
    "inputVectors_shuffled, labels_ggexc_shuffled = shuffle(inputVectors, labels_ggexc, random_state=0)\n",
    "\n",
    "if tuneC == False:\n",
    "    clf_SVM = svm.LinearSVC(C=1.0)\n",
    "    clf_SVM.fit(inputVectors_shuffled, labels_ggexc_shuffled)\n",
    "else:\n",
    "    print 'Tuning C...'\n",
    "    lstFid = []\n",
    "    startIndex_validation = int(numTotalTraj * (1 - validationFraction))\n",
    "    if lstC is None:\n",
    "        lstC = 10 ** np.linspace(-15, -7, 30)\n",
    "    for C in lstC:\n",
    "        clf_SVM = svm.LinearSVC(C=C)\n",
    "        clf_SVM.fit(inputVectors_shuffled[0:startIndex_validation], labels_ggexc_shuffled[0:startIndex_validation])\n",
    "        temp_fid = __findFidelity(inputVectors_shuffled[startIndex_validation: ], labels_ggexc_shuffled[startIndex_validation: ])\n",
    "        print 'On C =', C, '; fid =', temp_fid\n",
    "        lstFid = lstFid + [temp_fid]\n",
    "\n",
    "    plt.figure()\n",
    "    plt.plot(lstC, lstFid)\n",
    "    plt.gca().set_xscale('log')\n",
    "    plt.title('Tuning C')\n",
    "    plt.xlabel('C')\n",
    "    plt.ylabel('Fidelity')\n",
    "\n",
    "    optimalC = lstC[np.argmax(lstFid)]\n",
    "    print 'Chose optimal C = ', optimalC\n",
    "    \n",
    "    print '@@@ Start fitting the SVM; time: ', time.time() - timeStart\n",
    "    clf_SVM = svm.LinearSVC(C=optimalC)\n",
    "    clf_SVM.fit(inputVectors_shuffled, labels_ggexc_shuffled)\n",
    "    print '@@@ Finished fitting the SVM; time: ', time.time() - timeStart\n",
    "    \n",
    "    \n",
    "# #: Tune slotSize\n",
    "\n",
    "# lstFid_tuneSlotSize = []\n",
    "# startIndex_validation = int(numTotalTraj * (1 - validationFraction))\n",
    "# lstSlotSize = np.array([5, 10, 20, 50, 100, 200, 500])\n",
    "# for s in lstSlotSize:\n",
    "#     slotSize = s\n",
    "#     print '@@@ !Start formatIntoFeatureVectorsAndLabels; time: ', time.time() - timeStart\n",
    "#     inputVectors, labels_ggexc = __formatIntoFeatureVectorsAndLabels(traj, labels)\n",
    "#     print '@@@ !Finished formatIntoFeatureVectorsAndLabels; time: ', time.time() - timeStart\n",
    "#     inputVectors_shuffled, labels_ggexc_shuffled = shuffle(inputVectors, labels_ggexc, random_state=0)\n",
    "#     clf_SVM = svm.LinearSVC(C=1.0)\n",
    "#     clf_SVM.fit(inputVectors_shuffled, labels_ggexc_shuffled)\n",
    "#     temp_fid = __findFidelity(inputVectors_shuffled[startIndex_validation: ], labels_ggexc_shuffled[startIndex_validation: ])\n",
    "#     print 'On slotSize =', slotSize, '; fid =', temp_fid\n",
    "#     lstFid_tuneSlotSize = lstFid_tuneSlotSize + [temp_fid]\n",
    "\n",
    "# plt.figure()\n",
    "# plt.plot(lstSlotSize, lstFid_tuneSlotSize)\n",
    "# plt.gca().set_xscale('log')\n",
    "# plt.title('Tuning slotSize')\n",
    "# plt.xlabel('slotSize')\n",
    "# plt.ylabel('Fidelity')\n",
    "\n",
    "    \n",
    "    \n",
    "    \n",
    "    \n",
    "    \n",
    "    \n",
    "# print '@@@ Start finding train fidelity; time: ', time.time() - timeStart\n",
    "# fid_ggexc = __findFidelity(inputVectors_shuffled, labels_ggexc_shuffled)\n",
    "# print '@@@ Finished finding train fidelity; time: ', time.time() - timeStart\n",
    "\n",
    "# print 'train fid_ggexc: ', fid_ggexc"
   ]
  },
  {
   "cell_type": "markdown",
   "metadata": {},
   "source": [
    "### Score (test fidelity)"
   ]
  },
  {
   "cell_type": "code",
   "execution_count": 70,
   "metadata": {
    "collapsed": false
   },
   "outputs": [
    {
     "name": "stdout",
     "output_type": "stream",
     "text": [
      "@@@ Start formatIntoFeatureVectorsAndLabels; time:  0.00570201873779\n",
      "@@@ Start slotting; time:  0.012708902359\n",
      "@@@ Finished slotting; time:  0.480344057083\n",
      "@@@ Finished formatIntoFeatureVectorsAndLabels; time:  0.492660999298\n",
      "test fid:  0.906666666667\n"
     ]
    }
   ],
   "source": [
    "timeStart = time.time()\n",
    "\n",
    "traj = traj_test\n",
    "labels= labels_test\n",
    "\n",
    "print '@@@ Start formatIntoFeatureVectorsAndLabels; time: ', time.time() - timeStart\n",
    "inputVectors, labels_ggexc = __formatIntoFeatureVectorsAndLabels(traj, labels)\n",
    "print '@@@ Finished formatIntoFeatureVectorsAndLabels; time: ', time.time() - timeStart\n",
    "\n",
    "fid_ggexc = __findFidelity(inputVectors, labels_ggexc)\n",
    "\n",
    "print 'test fid: ', fid_ggexc"
   ]
  },
  {
   "cell_type": "code",
   "execution_count": 29,
   "metadata": {
    "collapsed": false
   },
   "outputs": [
    {
     "name": "stdout",
     "output_type": "stream",
     "text": [
      "<type 'float'>\n"
     ]
    }
   ],
   "source": []
  },
  {
   "cell_type": "code",
   "execution_count": null,
   "metadata": {
    "collapsed": true
   },
   "outputs": [],
   "source": [
    "def demod(rawdata):\n",
    "    #: params for the rawdata\n",
    "    numTrajs = rawdata.shape[1] #5000 #num trajectories per label\n",
    "    duration = rawdata.shape[3] #5000 #time duration of entire track, in nanoseconds\n",
    "\n",
    "    #: params for demod\n",
    "    demod_freq =   0.047000000 #47 MHz = 0.047GHz\n",
    "    clock_freq = 1.000000000 # 1000MHz =1 GHz\n",
    "    rotation = 0\n",
    "    # demod_decay = None  #obsolete\n",
    "    start_window = 0 #units of time\n",
    "    end_window = duration #is this the correct end_window?\n",
    "\n",
    "    #: demod code\n",
    "    times = np.arange( int(start_window*clock_freq), int(end_window*clock_freq) ) * float(demod_freq/(clock_freq)) #unitless\n",
    "    demod_exp = np.exp(1j*(2*np.pi*times-rotation))\n",
    "    # if demod_decay is not None:   #obsolete\n",
    "    #     demod_exp *= np.exp(-1*times/(demod_decay*demod_freq))\n",
    "    demod_exp_I = np.array(np.real(demod_exp), dtype='float32')\n",
    "    demod_exp_Q = np.array(np.imag(demod_exp), dtype='float32')\n",
    "\n",
    "    #: traj_demod and traj_av_demod\n",
    "    traj_demod=np.zeros((2, 4, numTrajs, duration)) # indices are: iqIndex, labelIndex, trajIndex, timeIndex  ;  value is the i or q quadrature value\n",
    "    traj_av_demod=np.zeros((2, 4, duration)) # averages over the trajs; indices: iqIndex, labelIndex, timeIndex\n",
    "\n",
    "\n",
    "    for labelIndex in np.arange(4):\n",
    "        for trajIndex in np.arange(numTrajs):\n",
    "            traj_demod[0,labelIndex,trajIndex]=( (rawdata[0, trajIndex, labelIndex, :] - rawdata[0, trajIndex, labelIndex, :].mean())*demod_exp_I    -    (rawdata[1, trajIndex, labelIndex, :] - rawdata[1, trajIndex, labelIndex, :].mean())*demod_exp_Q)\n",
    "            traj_demod[1,labelIndex,trajIndex]=( (rawdata[0, trajIndex, labelIndex, :] - rawdata[0, trajIndex, labelIndex, :].mean())*demod_exp_Q    +    (rawdata[1, trajIndex, labelIndex, :] - rawdata[1, trajIndex, labelIndex, :].mean())*demod_exp_I)\n",
    "        traj_av_demod[0, labelIndex] = traj_demod[0, labelIndex,:,:].mean(0)\n",
    "        traj_av_demod[1, labelIndex] = traj_demod[1, labelIndex,:,:].mean(0)\n",
    "\n",
    "    #: preprocess the data a little\n",
    "    traj = np.concatenate((traj_demod[:,0,:,:], traj_demod[:,1,:,:], traj_demod[:,2,:,:], traj_demod[:,3,:,:]), axis=1)\n",
    "    labels = np.concatenate((np.zeros(numTrajs), np.ones(numTrajs), 2*np.ones(numTrajs), 3*np.ones(numTrajs)), axis=0)\n",
    "    return traj,labels"
   ]
  }
 ],
 "metadata": {
  "kernelspec": {
   "display_name": "Python 2",
   "language": "python",
   "name": "python2"
  },
  "language_info": {
   "codemirror_mode": {
    "name": "ipython",
    "version": 2
   },
   "file_extension": ".py",
   "mimetype": "text/x-python",
   "name": "python",
   "nbconvert_exporter": "python",
   "pygments_lexer": "ipython2",
   "version": "2.7.11"
  }
 },
 "nbformat": 4,
 "nbformat_minor": 2
}
