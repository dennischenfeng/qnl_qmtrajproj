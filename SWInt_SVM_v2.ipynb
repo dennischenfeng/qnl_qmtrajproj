{
 "cells": [
  {
   "cell_type": "code",
   "execution_count": 13,
   "metadata": {
    "collapsed": true
   },
   "outputs": [],
   "source": [
    "%matplotlib inline\n",
    "\n",
    "import numpy as np\n",
    "import matplotlib.pyplot as plt\n",
    "from sklearn.utils import shuffle\n",
    "from sklearn import svm\n",
    "import time"
   ]
  },
  {
   "cell_type": "markdown",
   "metadata": {},
   "source": [
    "### Load data"
   ]
  },
  {
   "cell_type": "code",
   "execution_count": 6,
   "metadata": {
    "collapsed": false
   },
   "outputs": [
    {
     "name": "stdout",
     "output_type": "stream",
     "text": [
      "train traj and labels loaded\n",
      "test traj and labels loaded\n"
     ]
    }
   ],
   "source": [
    "traj_train = np.load('traj_train.npy')\n",
    "labels_train = np.load('labels_train.npy')\n",
    "print 'train traj and labels loaded'\n",
    "\n",
    "traj_test = np.load('traj_test.npy')\n",
    "labels_test = np.load('labels_test.npy')\n",
    "print 'test traj and labels loaded'"
   ]
  },
  {
   "cell_type": "markdown",
   "metadata": {},
   "source": [
    "### Params"
   ]
  },
  {
   "cell_type": "code",
   "execution_count": 7,
   "metadata": {
    "collapsed": true
   },
   "outputs": [],
   "source": [
    "slotSize = 0\n",
    "clf_SVM = None"
   ]
  },
  {
   "cell_type": "markdown",
   "metadata": {},
   "source": [
    "### Helper functions"
   ]
  },
  {
   "cell_type": "code",
   "execution_count": 34,
   "metadata": {
    "collapsed": true
   },
   "outputs": [],
   "source": [
    "def __formatIntoFeatureVectorsAndLabels(traj, labels):\n",
    "    \"\"\"\n",
    "    Helper function. Converts the traj and labels into a feature vector matrix (design matrix) and a labels array, which is the proper format to input into the SVM.\n",
    "    :param traj: the demodded trajectories in an np array, with 3 indices: iqIndex, trajIndex, timeIndex\n",
    "    :param labels: the labels corresponding to the trajectories, 1d np array\n",
    "    :return: inputVectors (each feature vector is the I vector concatted with the Q vector) and labels_ggexc (labels for each trajectory, 0 for gg, 1 for exc)\n",
    "    \"\"\"\n",
    "    numTotalTraj = traj.shape[1]\n",
    "    numTimeBins = traj.shape[2]  # 5000 #num time bins per traj\n",
    "    \n",
    "    print '@@@ Start slotting; time: ', time.time() - timeStart\n",
    "    #: get inputVectors and labels_ggexc\n",
    "    ###\n",
    "    numSlots = numTimeBins / slotSize  # num slots per traj\n",
    "    traj_slotted = np.zeros((2, numTotalTraj, numSlots))  # indices: iqIndex, labelIndex, trajIndex, slotIndex\n",
    "    for trajIndex in np.arange(numTotalTraj):\n",
    "        for j in np.arange(numSlots): #j is slotIndex\n",
    "            traj_slotted[:, trajIndex, j] = traj[:, trajIndex, j*slotSize:j*slotSize+slotSize].mean(1)\n",
    "#             traj_slotted[1, trajIndex, j] = traj[1, trajIndex, j*slotSize:j*slotSize+slotSize].mean()\n",
    "    print '@@@ Finished slotting; time: ', time.time() - timeStart\n",
    "    \n",
    "#     print '@@@ Start concatting; time: ', time.time() - timeStart\n",
    "    inputVectors = np.concatenate((traj_slotted[0, :, :], traj_slotted[1, :, :]), axis=1) #sample vectors to input into the SVM;\n",
    "    labels_ggexc = np.array([0 if labels[i]==0 else 1 for i in np.arange(numTotalTraj) ]) # this groups gg as label 0, and exc as label 1\n",
    "#     print '@@@ Finished concatting; time: ', time.time() - timeStart\n",
    "    \n",
    "    return inputVectors, labels_ggexc"
   ]
  },
  {
   "cell_type": "code",
   "execution_count": 9,
   "metadata": {
    "collapsed": true
   },
   "outputs": [],
   "source": [
    "def __findFidelity(inputVectors, labels_ggexc):\n",
    "    \"\"\"\n",
    "    Helper function. Calculates the fidelity\n",
    "    :param inputVectors:\n",
    "    :param labels_ggexc:\n",
    "    :return: fidelity\n",
    "    \"\"\"\n",
    "    numTraj = inputVectors.shape[0]\n",
    "\n",
    "    #: find train fidelity\n",
    "    ###\n",
    "    labels_ggexc_predicted = clf_SVM.predict(inputVectors)\n",
    "\n",
    "    num_gg_exc = 0  # num of samples that are predicted 'gg' but are actually exc\n",
    "    num_exc_gg = 0  # num of samples that are predicted 'exc' but are actually gg\n",
    "    num_exc = 0  # total num of true exc sample\n",
    "    num_gg = 0  # total num of true exc sample\n",
    "\n",
    "    for i in np.arange(numTraj):\n",
    "        if labels_ggexc[i] == 1:\n",
    "            num_exc = num_exc + 1\n",
    "            if labels_ggexc_predicted[i] == 0:\n",
    "                num_gg_exc = num_gg_exc + 1\n",
    "        else:\n",
    "            num_gg = num_gg + 1\n",
    "            if labels_ggexc_predicted[i] == 1:\n",
    "                num_exc_gg = num_exc_gg + 1\n",
    "\n",
    "    prob_gg_exc = 1.0 * num_gg_exc / num_exc\n",
    "    prob_exc_gg = 1.0 * num_exc_gg / num_gg\n",
    "\n",
    "    fid_ggexc = 1 - (prob_gg_exc + prob_exc_gg) / 2\n",
    "\n",
    "    return fid_ggexc"
   ]
  },
  {
   "cell_type": "markdown",
   "metadata": {},
   "source": [
    "### Fit the SVM"
   ]
  },
  {
   "cell_type": "code",
   "execution_count": 25,
   "metadata": {
    "collapsed": false
   },
   "outputs": [
    {
     "name": "stdout",
     "output_type": "stream",
     "text": [
      "<type 'int'>\n",
      "100\n"
     ]
    }
   ],
   "source": [
    "print type(traj.shape[2] / slotSize)\n",
    "print traj.shape[2] / slotSize\n",
    "\n"
   ]
  },
  {
   "cell_type": "code",
   "execution_count": 35,
   "metadata": {
    "collapsed": false
   },
   "outputs": [
    {
     "name": "stdout",
     "output_type": "stream",
     "text": [
      "@@@ Start timing\n"
     ]
    }
   ],
   "source": [
    "### Testing _formatInto..\n",
    "\n",
    "\n",
    "timeStart = time.time()\n",
    "print '@@@ Start timing'\n",
    "\"\"\"\n",
    "Fits the SVM.\n",
    "\n",
    ":param traj:\n",
    ":param labels:\n",
    ":param slotSize: size (number of time units) of each slot, for performing slot weights integration\n",
    ":param tuneC: True if you want the method to tune C\n",
    ":param lstC: None if you want to use the default list of C's to sweep through for finding the optimal C; should be an np array or a list.\n",
    ":param validationFraction: fraction of the traj's to use as the validation set (tuning C happens on the validation set)\n",
    ":return: self\n",
    "\"\"\"\n",
    "traj = traj_train\n",
    "labels = labels_train\n",
    "slotSize=50 \n",
    "tuneC=False\n",
    "lstC=None\n",
    "validationFraction=0.25\n",
    "\n",
    "\n",
    "\n",
    "\n",
    "numTotalTraj = traj.shape[1]\n",
    "\n",
    "# print '@@@ Start formatIntoFeatureVectorsAndLabels; time: ', time.time() - timeStart\n",
    "# inputVectors, labels_ggexc = __formatIntoFeatureVectorsAndLabels(traj, labels)\n",
    "# print '@@@ Finished formatIntoFeatureVectorsAndLabels; time: ', time.time() - timeStart"
   ]
  },
  {
   "cell_type": "code",
   "execution_count": 48,
   "metadata": {
    "collapsed": false
   },
   "outputs": [
    {
     "name": "stdout",
     "output_type": "stream",
     "text": [
      "100 loops, best of 3: 19.7 ms per loop\n"
     ]
    }
   ],
   "source": [
    "test = np.random.rand(2,1000,10000)\n",
    "\n",
    "%timeit test.reshape(2, 100, 50, -1).mean(2)\n"
   ]
  },
  {
   "cell_type": "code",
   "execution_count": 32,
   "metadata": {
    "collapsed": false
   },
   "outputs": [
    {
     "name": "stdout",
     "output_type": "stream",
     "text": [
      "@@@ Start timing\n",
      "@@@ Start formatIntoFeatureVectorsAndLabels; time:  14.8153870106\n",
      "@@@ Start slotting; time:  14.8164160252\n",
      "@@@ Finished slotting; time:  370.909968138\n",
      "@@@ Start concatting; time:  370.935969114\n",
      "@@@ Finished concatting; time:  373.185858011\n",
      "@@@ Finished formatIntoFeatureVectorsAndLabels; time:  373.24399519\n",
      "On slotSize = 5 ; fid = 0.88883829889\n",
      "@@@ Start formatIntoFeatureVectorsAndLabels; time:  419.86067009\n",
      "@@@ Start slotting; time:  419.86484313\n",
      "@@@ Finished slotting; time:  602.961499214\n",
      "@@@ Start concatting; time:  602.966474056\n",
      "@@@ Finished concatting; time:  603.66477704\n",
      "@@@ Finished formatIntoFeatureVectorsAndLabels; time:  603.697765112\n",
      "On slotSize = 10 ; fid = 0.867458208062\n",
      "@@@ Start formatIntoFeatureVectorsAndLabels; time:  641.717657089\n",
      "@@@ Start slotting; time:  641.718109131\n",
      "@@@ Finished slotting; time:  724.189835072\n",
      "@@@ Start concatting; time:  724.19530201\n",
      "@@@ Finished concatting; time:  724.460434198\n",
      "@@@ Finished formatIntoFeatureVectorsAndLabels; time:  724.500144005\n",
      "On slotSize = 20 ; fid = 0.819355722573\n",
      "@@@ Start formatIntoFeatureVectorsAndLabels; time:  746.950135231\n",
      "@@@ Start slotting; time:  746.951345205\n",
      "@@@ Finished slotting; time:  779.022549152\n",
      "@@@ Start concatting; time:  779.022861004\n",
      "@@@ Finished concatting; time:  779.078759193\n",
      "@@@ Finished formatIntoFeatureVectorsAndLabels; time:  779.094654083\n",
      "On slotSize = 50 ; fid = 0.873908189379\n",
      "@@@ Start formatIntoFeatureVectorsAndLabels; time:  792.804430008\n",
      "@@@ Start slotting; time:  792.804608107\n",
      "@@@ Finished slotting; time:  807.825423002\n",
      "@@@ Start concatting; time:  807.825995207\n",
      "@@@ Finished concatting; time:  807.855320215\n",
      "@@@ Finished formatIntoFeatureVectorsAndLabels; time:  807.86101222\n",
      "On slotSize = 100 ; fid = 0.790037330549\n",
      "@@@ Start formatIntoFeatureVectorsAndLabels; time:  816.286350012\n",
      "@@@ Start slotting; time:  816.286955118\n",
      "@@@ Finished slotting; time:  823.723329067\n",
      "@@@ Start concatting; time:  823.723609209\n",
      "@@@ Finished concatting; time:  823.737525225\n",
      "@@@ Finished formatIntoFeatureVectorsAndLabels; time:  823.739972115\n",
      "On slotSize = 200 ; fid = 0.742405900168\n",
      "@@@ Start formatIntoFeatureVectorsAndLabels; time:  830.03414607\n",
      "@@@ Start slotting; time:  830.035400152\n",
      "@@@ Finished slotting; time:  833.19857502\n",
      "@@@ Start concatting; time:  833.198668003\n",
      "@@@ Finished concatting; time:  833.209819078\n",
      "@@@ Finished formatIntoFeatureVectorsAndLabels; time:  833.210842133\n",
      "On slotSize = 500 ; fid = 0.880163710317\n"
     ]
    },
    {
     "data": {
      "text/plain": [
       "<matplotlib.text.Text at 0x126cce050>"
      ]
     },
     "execution_count": 32,
     "metadata": {},
     "output_type": "execute_result"
    },
    {
     "data": {
      "image/png": "[encoded data removed]",
      "text/plain": [
       "<matplotlib.figure.Figure at 0x12b433c50>"
      ]
     },
     "metadata": {},
     "output_type": "display_data"
    }
   ],
   "source": [
    "### \n",
    "\n",
    "timeStart = time.time()\n",
    "print '@@@ Start timing'\n",
    "\"\"\"\n",
    "Fits the SVM.\n",
    "\n",
    ":param traj:\n",
    ":param labels:\n",
    ":param slotSize: size (number of time units) of each slot, for performing slot weights integration\n",
    ":param tuneC: True if you want the method to tune C\n",
    ":param lstC: None if you want to use the default list of C's to sweep through for finding the optimal C; should be an np array or a list.\n",
    ":param validationFraction: fraction of the traj's to use as the validation set (tuning C happens on the validation set)\n",
    ":return: self\n",
    "\"\"\"\n",
    "traj = traj_train\n",
    "labels = labels_train\n",
    "slotSize=50 \n",
    "tuneC=False\n",
    "lstC=None\n",
    "validationFraction=0.25\n",
    "\n",
    "\n",
    "\n",
    "\n",
    "numTotalTraj = traj.shape[1]\n",
    "\n",
    "# print '@@@ Start formatIntoFeatureVectorsAndLabels; time: ', time.time() - timeStart\n",
    "# inputVectors, labels_ggexc = __formatIntoFeatureVectorsAndLabels(traj, labels)\n",
    "# print '@@@ Finished formatIntoFeatureVectorsAndLabels; time: ', time.time() - timeStart\n",
    "\n",
    "# #: fit the clf_SVM, tune C if chosen to\n",
    "# ###\n",
    "# inputVectors_shuffled, labels_ggexc_shuffled = shuffle(inputVectors, labels_ggexc, random_state=0)\n",
    "\n",
    "if tuneC == False:\n",
    "    clf_SVM = svm.LinearSVC(C=1.0)\n",
    "    clf_SVM.fit(inputVectors_shuffled, labels_ggexc_shuffled)\n",
    "# else:\n",
    "#     print 'Tuning C...'\n",
    "#     lstFid = []\n",
    "#     startIndex_validation = int(numTotalTraj * (1 - validationFraction))\n",
    "#     if lstC is None:\n",
    "#         lstC = 10 ** np.linspace(-15, -7, 30)\n",
    "#     for C in lstC:\n",
    "#         clf_SVM = svm.LinearSVC(C=C)\n",
    "#         clf_SVM.fit(inputVectors_shuffled[0:startIndex_validation], labels_ggexc_shuffled[0:startIndex_validation])\n",
    "#         temp_fid = __findFidelity(inputVectors_shuffled[startIndex_validation: ], labels_ggexc_shuffled[startIndex_validation: ])\n",
    "#         print 'On C =', C, '; fid =', temp_fid\n",
    "#         lstFid = lstFid + [temp_fid]\n",
    "\n",
    "#     plt.figure()\n",
    "#     plt.plot(lstC, lstFid)\n",
    "#     plt.gca().set_xscale('log')\n",
    "#     plt.title('Tuning C')\n",
    "#     plt.xlabel('C')\n",
    "#     plt.ylabel('Fidelity')\n",
    "\n",
    "#     optimalC = lstC[np.argmax(lstFid)]\n",
    "#     print 'Chose optimal C = ', optimalC\n",
    "    \n",
    "#     print '@@@ Start fitting the SVM; time: ', time.time() - timeStart\n",
    "#     clf_SVM = svm.LinearSVC(C=optimalC)\n",
    "#     clf_SVM.fit(inputVectors_shuffled, labels_ggexc_shuffled)\n",
    "#     print '@@@ Finished fitting the SVM; time: ', time.time() - timeStart\n",
    "    \n",
    "    \n",
    "#: Tune slotSize\n",
    "\n",
    "lstFid_tuneSlotSize = []\n",
    "startIndex_validation = int(numTotalTraj * (1 - validationFraction))\n",
    "lstSlotSize = np.array([5, 10, 20, 50, 100, 200, 500])\n",
    "for s in lstSlotSize:\n",
    "    slotSize = s\n",
    "    print '@@@ !Start formatIntoFeatureVectorsAndLabels; time: ', time.time() - timeStart\n",
    "    inputVectors, labels_ggexc = __formatIntoFeatureVectorsAndLabels(traj, labels)\n",
    "    print '@@@ !Finished formatIntoFeatureVectorsAndLabels; time: ', time.time() - timeStart\n",
    "    inputVectors_shuffled, labels_ggexc_shuffled = shuffle(inputVectors, labels_ggexc, random_state=0)\n",
    "    clf_SVM = svm.LinearSVC(C=1.0)\n",
    "    clf_SVM.fit(inputVectors_shuffled, labels_ggexc_shuffled)\n",
    "    temp_fid = __findFidelity(inputVectors_shuffled[startIndex_validation: ], labels_ggexc_shuffled[startIndex_validation: ])\n",
    "    print 'On slotSize =', slotSize, '; fid =', temp_fid\n",
    "    lstFid_tuneSlotSize = lstFid_tuneSlotSize + [temp_fid]\n",
    "\n",
    "plt.figure()\n",
    "plt.plot(lstSlotSize, lstFid_tuneSlotSize)\n",
    "plt.gca().set_xscale('log')\n",
    "plt.title('Tuning slotSize')\n",
    "plt.xlabel('slotSize')\n",
    "plt.ylabel('Fidelity')\n",
    "\n",
    "    \n",
    "    \n",
    "    \n",
    "    \n",
    "    \n",
    "    \n",
    "# print '@@@ Start finding train fidelity; time: ', time.time() - timeStart\n",
    "# fid_ggexc = __findFidelity(inputVectors_shuffled, labels_ggexc_shuffled)\n",
    "# print '@@@ Finished finding train fidelity; time: ', time.time() - timeStart\n",
    "\n",
    "# print 'train fid_ggexc: ', fid_ggexc"
   ]
  },
  {
   "cell_type": "markdown",
   "metadata": {},
   "source": [
    "### Score (test fidelity)"
   ]
  },
  {
   "cell_type": "code",
   "execution_count": 17,
   "metadata": {
    "collapsed": false
   },
   "outputs": [
    {
     "name": "stdout",
     "output_type": "stream",
     "text": [
      "@@@ Start formatIntoFeatureVectorsAndLabels; time:  0.00176692008972\n",
      "@@@ Finished formatIntoFeatureVectorsAndLabels; time:  8.84163498878\n",
      "test fid:  0.906666666667\n"
     ]
    }
   ],
   "source": [
    "timeStart = time.time()\n",
    "\n",
    "traj = traj_test\n",
    "labels= labels_test\n",
    "\n",
    "print '@@@ Start formatIntoFeatureVectorsAndLabels; time: ', time.time() - timeStart\n",
    "inputVectors, labels_ggexc = __formatIntoFeatureVectorsAndLabels(traj, labels)\n",
    "print '@@@ Finished formatIntoFeatureVectorsAndLabels; time: ', time.time() - timeStart\n",
    "\n",
    "fid_ggexc = __findFidelity(inputVectors, labels_ggexc)\n",
    "\n",
    "print 'test fid: ', fid_ggexc"
   ]
  },
  {
   "cell_type": "code",
   "execution_count": 29,
   "metadata": {
    "collapsed": false
   },
   "outputs": [
    {
     "name": "stdout",
     "output_type": "stream",
     "text": [
      "<type 'float'>\n"
     ]
    }
   ],
   "source": [
    "i = 3.3e-10\n",
    "print type(i)"
   ]
  },
  {
   "cell_type": "code",
   "execution_count": null,
   "metadata": {
    "collapsed": true
   },
   "outputs": [],
   "source": []
  }
 ],
 "metadata": {
  "kernelspec": {
   "display_name": "Python 2",
   "language": "python",
   "name": "python2"
  },
  "language_info": {
   "codemirror_mode": {
    "name": "ipython",
    "version": 2
   },
   "file_extension": ".py",
   "mimetype": "text/x-python",
   "name": "python",
   "nbconvert_exporter": "python",
   "pygments_lexer": "ipython2",
   "version": "2.7.11"
  }
 },
 "nbformat": 4,
 "nbformat_minor": 2
}
