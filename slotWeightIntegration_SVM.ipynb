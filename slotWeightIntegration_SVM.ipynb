{
 "cells": [
  {
   "cell_type": "markdown",
   "metadata": {},
   "source": [
    "### Importing and getting rawdata"
   ]
  },
  {
   "cell_type": "code",
   "execution_count": 3,
   "metadata": {
    "collapsed": false
   },
   "outputs": [
    {
     "name": "stdout",
     "output_type": "stream",
     "text": [
      "Shape of raw data:  (2, 5000, 4, 5000)\n"
     ]
    }
   ],
   "source": [
    "%matplotlib inline\n",
    "\n",
    "import numpy as np\n",
    "import matplotlib.pyplot as plt\n",
    "import h5py\n",
    "from sklearn.utils import shuffle\n",
    "from sklearn import svm\n",
    "\n",
    "#: get data from h5\n",
    "f = h5py.File('163223_Trajectories.hdf5','r')\n",
    "\n",
    "# to view the insides of the h5, use print f.keys()\n",
    "# print f['data']['Dependent0']\n",
    "rawdata = f['data']['Dependent0'][()] #this turns the h5data into a numpy file\n",
    "print('Shape of raw data: ', rawdata.shape)\n",
    "f.close()\n"
   ]
  },
  {
   "cell_type": "markdown",
   "metadata": {},
   "source": [
    "# 1. Preparing the rawdata into a proper format (feature vectors) to train our classifier "
   ]
  },
  {
   "cell_type": "markdown",
   "metadata": {},
   "source": [
    "### Get traj_demod and traj_av_demod from rawdata; [traj_demod, traj_av_demod]"
   ]
  },
  {
   "cell_type": "code",
   "execution_count": 4,
   "metadata": {
    "collapsed": false
   },
   "outputs": [],
   "source": [
    "#: params for the rawdata \n",
    "numTrajs = 5000 #num trajectories per label\n",
    "duration = 5000 #time duration of entire track, in nanoseconds\n",
    "\n",
    "#: params for demod\n",
    "demod_freq =   0.047000000 #47 MHz = 0.047GHz\n",
    "clock_freq = 1.000000000 # 1000MHz =1 GHz\n",
    "rotation = 0\n",
    "# demod_decay = None  #obsolete\n",
    "start_window = 0 #units of time\n",
    "end_window = duration #is this the correct end_window?\n",
    "\n",
    "\n",
    "\n",
    "#: demod code\n",
    "times = np.arange( int(start_window*clock_freq), int(end_window*clock_freq) ) * float(demod_freq/(clock_freq)) #unitless\n",
    "demod_exp = np.exp(1j*(2*np.pi*times-rotation))\n",
    "# if demod_decay is not None:   #obsolete\n",
    "#     demod_exp *= np.exp(-1*times/(demod_decay*demod_freq))\n",
    "demod_exp_I = np.array(np.real(demod_exp), dtype='float32')\n",
    "demod_exp_Q = np.array(np.imag(demod_exp), dtype='float32')\n",
    "\n",
    "\n",
    "#: traj_demod and traj_av_demod\n",
    "traj_demod=np.zeros((2, 4, numTrajs, duration)) # indices are: iqIndex, labelIndex, trajIndex, timeIndex  ;  value is the i or q quadrature value\n",
    "traj_av_demod=np.zeros((2, 4, duration)) # averages over the trajs; indices: iqIndex, labelIndex, timeIndex\n",
    "\n",
    "\n",
    "for labelIndex in np.arange(4):\n",
    "    for trajIndex in np.arange(numTrajs):\n",
    "        traj_demod[0,labelIndex,trajIndex]=( (rawdata[0, trajIndex, labelIndex, :] - rawdata[0, trajIndex, labelIndex, :].mean())*demod_exp_I    -    (rawdata[1, trajIndex, labelIndex, :] - rawdata[1, trajIndex, labelIndex, :].mean())*demod_exp_Q)\n",
    "        traj_demod[1,labelIndex,trajIndex]=( (rawdata[0, trajIndex, labelIndex, :] - rawdata[0, trajIndex, labelIndex, :].mean())*demod_exp_Q    +    (rawdata[1, trajIndex, labelIndex, :] - rawdata[1, trajIndex, labelIndex, :].mean())*demod_exp_I)\n",
    "    traj_av_demod[0, labelIndex] = traj_demod[0, labelIndex,:,:].mean(0)\n",
    "    traj_av_demod[1, labelIndex] = traj_demod[1, labelIndex,:,:].mean(0)\n",
    "    "
   ]
  },
  {
   "cell_type": "markdown",
   "metadata": {},
   "source": [
    "### Get feature vectors (slot-by-slot integrated form of I,Q quadratures) and labels; [inputData, labels01]; note: inputData only has gg and ee trajs"
   ]
  },
  {
   "cell_type": "code",
   "execution_count": 5,
   "metadata": {
    "collapsed": false
   },
   "outputs": [
    {
     "name": "stderr",
     "output_type": "stream",
     "text": [
      "/home/qnl/anaconda3/lib/python3.6/site-packages/ipykernel/__main__.py:3: VisibleDeprecationWarning: using a non-integer number instead of an integer will result in an error in the future\n",
      "  app.launch_new_instance()\n",
      "/home/qnl/anaconda3/lib/python3.6/site-packages/ipykernel/__main__.py:8: VisibleDeprecationWarning: using a non-integer number instead of an integer will result in an error in the future\n",
      "/home/qnl/anaconda3/lib/python3.6/site-packages/ipykernel/__main__.py:9: VisibleDeprecationWarning: using a non-integer number instead of an integer will result in an error in the future\n",
      "/home/qnl/anaconda3/lib/python3.6/site-packages/ipykernel/__main__.py:12: VisibleDeprecationWarning: using a non-integer number instead of an integer will result in an error in the future\n"
     ]
    }
   ],
   "source": [
    "slotSize = 50 #please make duration divisible by slotSize\n",
    "numSlots = duration/slotSize # num slots per traj\n",
    "traj_demod_slotted = np.zeros((2, 4, numTrajs, numSlots)) # indices: iqIndex, labelIndex, trajIndex, slotIndex\n",
    "\n",
    "for labelIndex in np.arange(4):\n",
    "    for trajIndex in np.arange(numTrajs):\n",
    "        for j in np.arange(numSlots): #j is slotIndex\n",
    "            traj_demod_slotted[0,labelIndex, trajIndex, j] = traj_demod[0, labelIndex, trajIndex, j*slotSize:j*slotSize+slotSize].mean()\n",
    "            traj_demod_slotted[1,labelIndex, trajIndex, j] = traj_demod[1, labelIndex, trajIndex, j*slotSize:j*slotSize+slotSize].mean()\n",
    "            \n",
    "#: data inputted into the SVM ; feature vectors are I traj concatted with Q traj\n",
    "inputData = np.zeros([4*numTrajs, 2*numSlots]) # 4* numTrajs because 4 labels ; 2*numSlots because vector has both i and q trajs\n",
    "inputData[0:numTrajs, :] = np.hstack([traj_demod_slotted[0, 0, :, :], traj_demod_slotted[1, 0, :, :]])\n",
    "inputData[numTrajs:2*numTrajs, :] = np.hstack([traj_demod_slotted[0, 1, :, :], traj_demod_slotted[1, 1, :, :]])\n",
    "inputData[2*numTrajs:3*numTrajs, :] = np.hstack([traj_demod_slotted[0, 2, :, :], traj_demod_slotted[1, 2, :, :]])\n",
    "inputData[3*numTrajs:4*numTrajs, :] = np.hstack([traj_demod_slotted[0, 3, :, :], traj_demod_slotted[1, 3, :, :]])\n",
    "\n",
    "#: labels to input into SVM; NOT all 4 labels; its 0 if gg, 1 if {ee,ge,eg}\n",
    "labels01 = np.ones([4*numTrajs])\n",
    "labels01[0:numTrajs] = np.zeros([numTrajs])\n",
    "\n",
    "#: shuffle the data\n",
    "inputData, labels01 = shuffle(inputData, labels01, random_state=0)\n",
    "\n"
   ]
  },
  {
   "cell_type": "markdown",
   "metadata": {},
   "source": [
    "# 2. Fit with SVM, only use training data"
   ]
  },
  {
   "cell_type": "markdown",
   "metadata": {},
   "source": [
    "### Fit LinearSVM v1 (LinearSVC()). First try to plot fidelity vs C (for hyperparam tuning); find optimal C (manually)"
   ]
  },
  {
   "cell_type": "code",
   "execution_count": 6,
   "metadata": {
    "collapsed": false
   },
   "outputs": [
    {
     "name": "stdout",
     "output_type": "stream",
     "text": [
      "For C= 1e-15 , fidelity:  0.5\n",
      "For C= 1.4563484775e-15 , fidelity:  0.5\n",
      "For C= 2.12095088792e-15 , fidelity:  0.5\n",
      "For C= 3.08884359648e-15 , fidelity:  0.5\n",
      "For C= 4.49843266897e-15 , fidelity:  0.5\n",
      "For C= 6.5512855686e-15 , fidelity:  0.5\n",
      "For C= 9.5409547635e-15 , fidelity:  0.5\n",
      "For C= 1.38949549437e-14 , fidelity:  0.5\n",
      "For C= 2.02358964773e-14 , fidelity:  0.5\n",
      "For C= 2.94705170255e-14 , fidelity:  0.5\n",
      "For C= 4.29193426013e-14 , fidelity:  0.5004901960784314\n",
      "For C= 6.25055192527e-14 , fidelity:  0.5004901960784314\n",
      "For C= 9.10298177992e-14 , fidelity:  0.5004901960784314\n",
      "For C= 1.32571136559e-13 , fidelity:  0.5004901960784314\n",
      "For C= 1.93069772888e-13 , fidelity:  0.5004901960784314\n",
      "For C= 2.81176869797e-13 , fidelity:  0.5004901960784314\n",
      "For C= 4.09491506238e-13 , fidelity:  0.5004901960784314\n",
      "For C= 5.96362331659e-13 , fidelity:  0.5016252138439268\n",
      "For C= 8.68511373751e-13 , fidelity:  0.5029280168443215\n",
      "For C= 1.26485521686e-12 , fidelity:  0.5076621923937361\n",
      "For C= 1.84206996933e-12 , fidelity:  0.5208843268851164\n",
      "For C= 2.68269579528e-12 , fidelity:  0.5469930253980787\n",
      "For C= 3.90693993705e-12 , fidelity:  0.5923345176996972\n",
      "For C= 5.68986602902e-12 , fidelity:  0.6711244900644822\n",
      "For C= 8.28642772855e-12 , fidelity:  0.7557310172391104\n",
      "For C= 1.20679264064e-11 , fidelity:  0.8140742202921437\n",
      "For C= 1.75751062485e-11 , fidelity:  0.8582543755757337\n",
      "For C= 2.5595479227e-11 , fidelity:  0.8781056717989209\n",
      "For C= 3.72759372031e-11 , fidelity:  0.890656665350704\n",
      "For C= 5.42867543932e-11 , fidelity:  0.896525858665614\n",
      "For C= 7.90604321091e-11 , fidelity:  0.9022404263718911\n",
      "For C= 1.15139539933e-10 , fidelity:  0.9036978549809185\n",
      "For C= 1.67683293681e-10 , fidelity:  0.9041880510593499\n",
      "For C= 2.44205309455e-10 , fidelity:  0.9030530332938544\n",
      "For C= 3.55648030622e-10 , fidelity:  0.9029115673114884\n",
      "For C= 5.17947467923e-10 , fidelity:  0.9014541387024608\n",
      "For C= 7.54312006335e-10 , fidelity:  0.9014672983287275\n",
      "For C= 1.09854114199e-09 , fidelity:  0.900654691406764\n",
      "For C= 1.59985871961e-09 , fidelity:  0.8999967100934334\n",
      "For C= 2.32995181052e-09 , fidelity:  0.8996742992499013\n",
      "For C= 3.3932217719e-09 , fidelity:  0.8982037110146072\n",
      "For C= 4.94171336132e-09 , fidelity:  0.8972233188577444\n",
      "For C= 7.19685673001e-09 , fidelity:  0.8965653375444138\n",
      "For C= 1.04811313415e-08 , fidelity:  0.8963975523095145\n",
      "For C= 1.52641796718e-08 , fidelity:  0.8963975523095145\n",
      "For C= 2.22299648253e-08 , fidelity:  0.8959073562310831\n",
      "For C= 3.23745754282e-08 , fidelity:  0.8957395709961837\n",
      "For C= 4.71486636346e-08 , fidelity:  0.8954171601526517\n",
      "For C= 6.86648845004e-08 , fidelity:  0.8954171601526517\n",
      "For C= 1e-07 , fidelity:  0.8954171601526517\n"
     ]
    },
    {
     "data": {
      "text/plain": [
       "<matplotlib.text.Text at 0x7fa853579a20>"
      ]
     },
     "execution_count": 6,
     "metadata": {},
     "output_type": "execute_result"
    },
    {
     "data": {
      "image/png": "[encoded data removed]",
      "text/plain": [
       "<matplotlib.figure.Figure at 0x7fa8535c4ac8>"
      ]
     },
     "metadata": {},
     "output_type": "display_data"
    }
   ],
   "source": [
    "#: params\n",
    "trainFraction = 4./5 #fraction of numTrajs to use as training set (validation set is part of the training set)\n",
    "validationFraction = 1./4 # what fraction OF TRAINING SET to use for validation\n",
    "lst_c = 10**np.linspace(-15, -7, 50) # list of C values (hyperparam for SVM) to train at\n",
    "\n",
    "\n",
    "startIndex_testData = int(numTrajs*trainFraction) * 4 # start index for test data ; multipled by 4 because the data set is 4 * numTraj long\n",
    "startIndex_validation = int(startIndex_testData * (1 - validationFraction))\n",
    "lst_fid = []\n",
    "\n",
    "for c in lst_c:\n",
    "    clf_linearSVM_v1 = svm.LinearSVC(C=c)\n",
    "    clf_linearSVM_v1.fit(inputData[0:startIndex_validation], labels01[0:startIndex_validation])\n",
    "    \n",
    "    #: find fidelity\n",
    "    \n",
    "    predicted_labels01 = clf_linearSVM_v1.predict(inputData[startIndex_validation:startIndex_testData])\n",
    "    p_0_1 = 0 # Prob(0|excited)\n",
    "    p_1_0 = 0 # Prob(1|gg)\n",
    "    num_0 = 0 # number of gg's\n",
    "    num_1 = 0 # number of excited states\n",
    "\n",
    "    for i in np.arange(len(predicted_labels01)):\n",
    "        if (labels01[startIndex_validation+i] == 1):\n",
    "            num_1 = num_1 + 1\n",
    "            if (predicted_labels01[i] == 0):\n",
    "                p_0_1 = p_0_1 + 1\n",
    "        elif (labels01[startIndex_validation+i] == 0):\n",
    "            num_0 = num_0 + 1\n",
    "            if (predicted_labels01[i] == 1):\n",
    "                p_1_0 = p_1_0 + 1\n",
    "\n",
    "    p_0_1 = 1.0 * p_0_1 / num_1\n",
    "    p_1_0 = 1.0 * p_1_0 / num_0\n",
    "    fid = 1 - (p_0_1 + p_1_0) / 2\n",
    "    lst_fid = lst_fid + [fid]\n",
    "    print('For C=', c, ', fidelity: ', fid)\n",
    "    \n",
    "plt.plot(lst_c, lst_fid)\n",
    "plt.gca().set_xscale('log')\n",
    "plt.xlabel('C')\n",
    "plt.ylabel('Fidelity')"
   ]
  },
  {
   "cell_type": "markdown",
   "metadata": {},
   "source": [
    "### Fit LinearSVM v2 (SVC(kernel='linear'))"
   ]
  },
  {
   "cell_type": "code",
   "execution_count": 8,
   "metadata": {
    "collapsed": false
   },
   "outputs": [],
   "source": [
    "# #: params\n",
    "# trainFraction = 4./5 #fraction of numTrajs to use as training set (validation set is part of the training set)\n",
    "# validationFraction = 1./4 # what fraction OF TRAINING SET to use for validation\n",
    "# lst_c = 10**np.linspace(-13, -6, 20) # list of C values (hyperparam for SVM) to train at\n",
    "\n",
    "\n",
    "# startIndex_testData = int(numTrajs*trainFraction) * 4 # start index for test data ; multipled by 4 because the data set is 4 * numTraj long\n",
    "# startIndex_validation = int(startIndex_testData * (1 - validationFraction))\n",
    "# lst_fid = []\n",
    "\n",
    "# for c in lst_c:\n",
    "#     clf_linearSVM_v2 = svm.SVC(kernel='linear', C=c)\n",
    "#     clf_linearSVM_v2.fit(inputData[0:startIndex_validation], labels01[0:startIndex_validation])\n",
    "    \n",
    "#     #: find fidelity\n",
    "    \n",
    "#     predicted_labels01 = clf_linearSVM_v2.predict(inputData[startIndex_validation:startIndex_testData])\n",
    "#     p_0_1 = 0 # Prob(0|excited)\n",
    "#     p_1_0 = 0 # Prob(1|gg)\n",
    "#     num_0 = 0 # number of gg's\n",
    "#     num_1 = 0 # number of excited states\n",
    "\n",
    "#     for i in np.arange(len(predicted_labels01)):\n",
    "#         if (labels01[startIndex_validation+i] == 1):\n",
    "#             num_1 = num_1 + 1\n",
    "#             if (predicted_labels01[i] == 0):\n",
    "#                 p_0_1 = p_0_1 + 1\n",
    "#         elif (labels01[startIndex_validation+i] == 0):\n",
    "#             num_0 = num_0 + 1\n",
    "#             if (predicted_labels01[i] == 1):\n",
    "#                 p_1_0 = p_1_0 + 1\n",
    "\n",
    "#     p_0_1 = 1.0 * p_0_1 / num_1\n",
    "#     p_1_0 = 1.0 * p_1_0 / num_0\n",
    "#     fid = 1 - (p_0_1 + p_1_0) / 2\n",
    "#     lst_fid = lst_fid + [fid]\n",
    "#     print('For C=', c, ', fidelity: ', fid)\n",
    "    \n",
    "# plt.plot(lst_c, lst_fid)\n",
    "# plt.gca().set_xscale('log')\n",
    "# plt.xlabel('C')\n",
    "# plt.ylabel('Fidelity')"
   ]
  },
  {
   "cell_type": "markdown",
   "metadata": {},
   "source": [
    "### Fit RbfSVM (SVC(kernel='rbf'))"
   ]
  },
  {
   "cell_type": "code",
   "execution_count": 9,
   "metadata": {
    "collapsed": false
   },
   "outputs": [],
   "source": [
    "# #: params\n",
    "# trainFraction = 4./5 #fraction of numTrajs to use as training set (validation set is part of the training set)\n",
    "# validationFraction = 1./4 # what fraction OF TRAINING SET to use for validation\n",
    "# lst_c = 10**np.linspace(-13, -6, 20) # list of C values (hyperparam for SVM) to train at\n",
    "\n",
    "\n",
    "# startIndex_testData = int(numTrajs*trainFraction) * 4 # start index for test data ; multipled by 4 because the data set is 4 * numTraj long\n",
    "# startIndex_validation = int(startIndex_testData * (1 - validationFraction))\n",
    "# lst_fid = []\n",
    "\n",
    "# for c in lst_c:\n",
    "#     clf_rbfSVM = svm.SVC(kernel='rbf', C=c)\n",
    "#     clf_rbfSVM.fit(inputData[0:startIndex_validation], labels01[0:startIndex_validation])\n",
    "    \n",
    "#     #: find fidelity\n",
    "    \n",
    "#     predicted_labels01 = clf_rbfSVM.predict(inputData[startIndex_validation:startIndex_testData])\n",
    "#     p_0_1 = 0 # Prob(0|excited)\n",
    "#     p_1_0 = 0 # Prob(1|gg)\n",
    "#     num_0 = 0 # number of gg's\n",
    "#     num_1 = 0 # number of excited states\n",
    "\n",
    "#     for i in np.arange(len(predicted_labels01)):\n",
    "#         if (labels01[startIndex_validation+i] == 1):\n",
    "#             num_1 = num_1 + 1\n",
    "#             if (predicted_labels01[i] == 0):\n",
    "#                 p_0_1 = p_0_1 + 1\n",
    "#         elif (labels01[startIndex_validation+i] == 0):\n",
    "#             num_0 = num_0 + 1\n",
    "#             if (predicted_labels01[i] == 1):\n",
    "#                 p_1_0 = p_1_0 + 1\n",
    "\n",
    "#     p_0_1 = 1.0 * p_0_1 / num_1\n",
    "#     p_1_0 = 1.0 * p_1_0 / num_0\n",
    "#     fid = 1 - (p_0_1 + p_1_0) / 2\n",
    "#     lst_fid = lst_fid + [fid]\n",
    "#     print('For C=', c, ', fidelity: ', fid)\n",
    "    \n",
    "# plt.plot(lst_c, lst_fid)\n",
    "# plt.gca().set_xscale('log')\n",
    "# plt.xlabel('C')\n",
    "# plt.ylabel('Fidelity')"
   ]
  },
  {
   "cell_type": "markdown",
   "metadata": {},
   "source": [
    "### Train the clf's with the optimal c"
   ]
  },
  {
   "cell_type": "code",
   "execution_count": null,
   "metadata": {
    "collapsed": false
   },
   "outputs": [],
   "source": [
    "clf_linearSVM_v1 = svm.LinearSVC(C=1.4e-10)\n",
    "clf_linearSVM_v1.fit(inputData[0:startIndex_testData], labels01[0:startIndex_testData])\n",
    "\n",
    "clf_linearSVM_v2 = svm.SVC(kernel='linear', C=1)\n",
    "clf_linearSVM_v2.fit(inputData[0:startIndex_testData], labels01[0:startIndex_testData])\n",
    "\n",
    "clf_rbfSVM = svm.SVC(kernel='rbf', C=1)\n",
    "clf_rbfSVM.fit(inputData[0:startIndex_testData], labels01[0:startIndex_testData])"
   ]
  },
  {
   "cell_type": "markdown",
   "metadata": {},
   "source": [
    "# 3. Calculate fidelity (on test set)"
   ]
  },
  {
   "cell_type": "code",
   "execution_count": null,
   "metadata": {
    "collapsed": false
   },
   "outputs": [],
   "source": [
    "\n",
    "\n",
    "predicted_labels01 = clf_linearSVM_v1.predict(inputData[startIndex_testData: ])\n",
    "p_0_1 = 0 # Prob(0|excited)\n",
    "p_1_0 = 0 # Prob(1|gg)\n",
    "num_0 = 0 # number of gg's\n",
    "num_1 = 0 # number of excited states\n",
    "\n",
    "\n",
    "for i in np.arange(len(predicted_labels01)):\n",
    "    if (labels01[startIndex_testData+i] == 1):\n",
    "        num_1 = num_1 + 1\n",
    "        if (predicted_labels01[i] == 0):\n",
    "            p_0_1 = p_0_1 + 1\n",
    "    elif (labels01[startIndex_testData+i] == 0):\n",
    "        num_0 = num_0 + 1\n",
    "        if (predicted_labels01[i] == 1):\n",
    "            p_1_0 = p_1_0 + 1\n",
    "\n",
    "p_0_1 = 1.0 * p_0_1 / num_1\n",
    "p_1_0 = 1.0 * p_1_0 / num_0\n",
    "\n",
    "fid = 1 - (p_0_1 + p_1_0) / 2\n",
    "print('Fidelity: ', fid)\n",
    "        \n",
    "    "
   ]
  },
  {
   "cell_type": "code",
   "execution_count": null,
   "metadata": {
    "collapsed": false
   },
   "outputs": [],
   "source": [
    "clf_linearSVM.score(inputData[startIndex_testData: ], labels01[startIndex_testData:])"
   ]
  },
  {
   "cell_type": "code",
   "execution_count": null,
   "metadata": {
    "collapsed": false
   },
   "outputs": [],
   "source": [
    "lst_c.size\n"
   ]
  },
  {
   "cell_type": "code",
   "execution_count": null,
   "metadata": {
    "collapsed": true
   },
   "outputs": [],
   "source": []
  }
 ],
 "metadata": {
  "kernelspec": {
   "display_name": "Python 3",
   "language": "python",
   "name": "python3"
  },
  "language_info": {
   "codemirror_mode": {
    "name": "ipython",
    "version": 3
   },
   "file_extension": ".py",
   "mimetype": "text/x-python",
   "name": "python",
   "nbconvert_exporter": "python",
   "pygments_lexer": "ipython3",
   "version": "3.6.0"
  }
 },
 "nbformat": 4,
 "nbformat_minor": 2
}
